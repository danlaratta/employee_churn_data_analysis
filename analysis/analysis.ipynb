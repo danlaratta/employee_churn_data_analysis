{
 "cells": [
  {
   "cell_type": "markdown",
   "id": "6d94d47b",
   "metadata": {},
   "source": [
    "# Employee Churn Analysis"
   ]
  }
 ],
 "metadata": {
  "language_info": {
   "name": "python"
  }
 },
 "nbformat": 4,
 "nbformat_minor": 5
}
